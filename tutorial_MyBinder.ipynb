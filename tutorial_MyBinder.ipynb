{
 "cells": [
  {
   "cell_type": "code",
   "execution_count": null,
   "id": "283c573b-5aa5-41b9-a8f1-aa157ff44fab",
   "metadata": {},
   "outputs": [],
   "source": [
    "# Part 1: manim\n",
    "# https://docs.manim.community/en/stable/installation/macos.html\n",
    "\n",
    "from manim import * # Normally bad practice in python\n",
    "\n",
    "# Some output configuration\n",
    "config.verbosity = \"WARNING\" \n",
    "config.media_width = \"50%\" # Feel free to change\n",
    "\n",
    "# Fancy light mode? Uncomment the following line\n",
    "#config.background_color = WHITE"
   ]
  },
  {
   "cell_type": "code",
   "execution_count": null,
   "id": "be346fba-a459-456d-b42f-1ca1f9cbf8c1",
   "metadata": {},
   "outputs": [],
   "source": [
    "%%manim -qh AddSomeObjects\n",
    "# The above line is needed to execute manim\n",
    "\n",
    "class AddSomeObjects(Scene):\n",
    "    def construct(self):\n",
    "        circle = Circle() # Mobject\n",
    "        self.wait()\n",
    "        self.add(circle)\n",
    "        self.wait()"
   ]
  },
  {
   "cell_type": "code",
   "execution_count": null,
   "id": "572307bf-97a5-4e93-8d1b-2aa9f0894d1e",
   "metadata": {},
   "outputs": [],
   "source": []
  },
  {
   "cell_type": "code",
   "execution_count": null,
   "id": "38a16fd2-3d72-440b-898d-370158a5911c",
   "metadata": {},
   "outputs": [],
   "source": [
    "'''\n",
    "Notes for later:\n",
    "\n",
    "Rlist = [-3, -2, -1, 0, 1, 2, 3, 4, 5, 6]\n",
    "Slist = [-1, 1, 0, 1.5, -0.5, 1, 0.5, -2.5, -1.5, 1.5]\n",
    "\n",
    "(Slist[knots[-1]] - Slist[knots[-2]]) / (Rlist[knots[-1]] - Rlist[knots[-2]]) >= (Slist[j] - Slist[knots[-1]]) / (Rlist[j] - Rlist[knots[-1]])\n",
    "'''"
   ]
  },
  {
   "cell_type": "code",
   "execution_count": null,
   "id": "7a29a633",
   "metadata": {},
   "outputs": [],
   "source": [
    "# Part 2: manim-slides\n",
    "# Unfortunately, this part cannot be done through this online workspace.\n",
    "# https://www.manim.community/plugin/manim-slides/"
   ]
  }
 ],
 "metadata": {
  "kernelspec": {
   "display_name": "Python 3 (ipykernel)",
   "language": "python",
   "name": "python3"
  },
  "language_info": {
   "codemirror_mode": {
    "name": "ipython",
    "version": 3
   },
   "file_extension": ".py",
   "mimetype": "text/x-python",
   "name": "python",
   "nbconvert_exporter": "python",
   "pygments_lexer": "ipython3",
   "version": "3.12.6"
  }
 },
 "nbformat": 4,
 "nbformat_minor": 5
}
