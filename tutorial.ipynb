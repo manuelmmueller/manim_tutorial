{
 "cells": [
  {
   "cell_type": "code",
   "execution_count": null,
   "id": "283c573b-5aa5-41b9-a8f1-aa157ff44fab",
   "metadata": {},
   "outputs": [],
   "source": [
    "from manim import *\n",
    "from manim_slides import Slide"
   ]
  },
  {
   "cell_type": "code",
   "execution_count": null,
   "id": "be346fba-a459-456d-b42f-1ca1f9cbf8c1",
   "metadata": {},
   "outputs": [],
   "source": [
    "%%manim -qh DrawCircle\n",
    "\n",
    "class DrawCircle(Scene):\n",
    "    def construct(self):\n",
    "        blue_circle = Circle(color=BLUE, fill_opacity=0.5)\n",
    "        self.play(Create(blue_circle))"
   ]
  },
  {
   "cell_type": "code",
   "execution_count": null,
   "id": "572307bf-97a5-4e93-8d1b-2aa9f0894d1e",
   "metadata": {},
   "outputs": [],
   "source": []
  },
  {
   "cell_type": "code",
   "execution_count": null,
   "id": "38a16fd2-3d72-440b-898d-370158a5911c",
   "metadata": {},
   "outputs": [],
   "source": []
  }
 ],
 "metadata": {
  "kernelspec": {
   "display_name": "Python 3 (ipykernel)",
   "language": "python",
   "name": "python3"
  },
  "language_info": {
   "codemirror_mode": {
    "name": "ipython",
    "version": 3
   },
   "file_extension": ".py",
   "mimetype": "text/x-python",
   "name": "python",
   "nbconvert_exporter": "python",
   "pygments_lexer": "ipython3",
   "version": "3.12.6"
  }
 },
 "nbformat": 4,
 "nbformat_minor": 5
}
